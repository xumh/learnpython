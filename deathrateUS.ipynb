{
 "cells": [
  {
   "cell_type": "code",
   "execution_count": 28,
   "metadata": {
    "collapsed": false
   },
   "outputs": [
    {
     "name": "stdout",
     "output_type": "stream",
     "text": [
      "[['', 'year', 'month', 'intent', 'police', 'sex', 'age', 'race', 'hispanic', 'place', 'education'], ['1', '2012', '01', 'Suicide', '0', 'M', '34', 'Asian/Pacific Islander', '100', 'Home', '4'], ['2', '2012', '01', 'Suicide', '0', 'F', '21', 'White', '100', 'Street', '3'], ['3', '2012', '01', 'Suicide', '0', 'M', '60', 'White', '100', 'Other specified', '4'], ['4', '2012', '02', 'Suicide', '0', 'M', '64', 'White', '100', 'Home', '4'], ['5', '2012', '02', 'Suicide', '0', 'M', '31', 'White', '100', 'Other specified', '2']]\n"
     ]
    }
   ],
   "source": [
    "import csv, numpy\n",
    "f=open(\"guns.csv\")\n",
    "data=list(csv.reader(f))\n",
    "print(data[:6])"
   ]
  },
  {
   "cell_type": "code",
   "execution_count": 29,
   "metadata": {
    "collapsed": false
   },
   "outputs": [],
   "source": [
    "headers=data[0]\n",
    "data=data[1:]"
   ]
  },
  {
   "cell_type": "code",
   "execution_count": 30,
   "metadata": {
    "collapsed": false
   },
   "outputs": [
    {
     "name": "stdout",
     "output_type": "stream",
     "text": [
      "{'2012': 33563, '2014': 33599, '2013': 33636}\n"
     ]
    }
   ],
   "source": [
    "years=[each[1] for each in data]\n",
    "year_counts={}\n",
    "for each in years:\n",
    "    if each in year_counts:\n",
    "        year_counts[each]+=1\n",
    "    else:\n",
    "        year_counts[each]=1\n",
    "print(year_counts)"
   ]
  },
  {
   "cell_type": "code",
   "execution_count": 31,
   "metadata": {
    "collapsed": false,
    "scrolled": false
   },
   "outputs": [
    {
     "name": "stdout",
     "output_type": "stream",
     "text": [
      "{datetime.datetime(2014, 2, 1, 0, 0): 2361, datetime.datetime(2014, 3, 1, 0, 0): 2684, datetime.datetime(2014, 9, 1, 0, 0): 2914, datetime.datetime(2012, 7, 1, 0, 0): 3026, datetime.datetime(2013, 7, 1, 0, 0): 3079, datetime.datetime(2014, 11, 1, 0, 0): 2756, datetime.datetime(2014, 8, 1, 0, 0): 2970, datetime.datetime(2013, 5, 1, 0, 0): 2806, datetime.datetime(2012, 2, 1, 0, 0): 2357, datetime.datetime(2012, 9, 1, 0, 0): 2852, datetime.datetime(2013, 4, 1, 0, 0): 2798, datetime.datetime(2014, 7, 1, 0, 0): 2884, datetime.datetime(2013, 1, 1, 0, 0): 2864, datetime.datetime(2014, 10, 1, 0, 0): 2865, datetime.datetime(2014, 12, 1, 0, 0): 2857, datetime.datetime(2014, 6, 1, 0, 0): 2931, datetime.datetime(2012, 1, 1, 0, 0): 2758, datetime.datetime(2012, 10, 1, 0, 0): 2733, datetime.datetime(2013, 3, 1, 0, 0): 2862, datetime.datetime(2013, 12, 1, 0, 0): 2765, datetime.datetime(2013, 11, 1, 0, 0): 2758, datetime.datetime(2012, 8, 1, 0, 0): 2954, datetime.datetime(2012, 5, 1, 0, 0): 2999, datetime.datetime(2012, 3, 1, 0, 0): 2743, datetime.datetime(2012, 12, 1, 0, 0): 2791, datetime.datetime(2013, 10, 1, 0, 0): 2808, datetime.datetime(2012, 4, 1, 0, 0): 2795, datetime.datetime(2013, 9, 1, 0, 0): 2742, datetime.datetime(2014, 1, 1, 0, 0): 2651, datetime.datetime(2014, 5, 1, 0, 0): 2864, datetime.datetime(2013, 6, 1, 0, 0): 2920, datetime.datetime(2012, 11, 1, 0, 0): 2729, datetime.datetime(2014, 4, 1, 0, 0): 2862, datetime.datetime(2013, 2, 1, 0, 0): 2375, datetime.datetime(2013, 8, 1, 0, 0): 2859, datetime.datetime(2012, 6, 1, 0, 0): 2826}\n"
     ]
    }
   ],
   "source": [
    "import datetime\n",
    "dates=[]\n",
    "for each in data:\n",
    "    date = datetime.datetime(year=int(each[1]), month=int(each[2]), day=1)\n",
    "    dates.append(date)\n",
    "\n",
    "dates_counts={}\n",
    "for each in dates:\n",
    "    if each in dates_counts:\n",
    "        dates_counts[each]+=1\n",
    "    else:\n",
    "        dates_counts[each]=1\n",
    "\n",
    "print(dates_counts)"
   ]
  },
  {
   "cell_type": "code",
   "execution_count": 32,
   "metadata": {
    "collapsed": false
   },
   "outputs": [
    {
     "name": "stdout",
     "output_type": "stream",
     "text": [
      "{'F': 14449, 'M': 86349}\n"
     ]
    }
   ],
   "source": [
    "sex=[each[5] for each in data]\n",
    "sex_counts={}\n",
    "for each in sex:\n",
    "    if each in sex_counts:\n",
    "        sex_counts[each]+=1\n",
    "    else:\n",
    "        sex_counts[each]=1\n",
    "\n",
    "print(sex_counts)"
   ]
  },
  {
   "cell_type": "code",
   "execution_count": 33,
   "metadata": {
    "collapsed": false
   },
   "outputs": [
    {
     "name": "stdout",
     "output_type": "stream",
     "text": [
      "{'Black': 23296, 'Asian/Pacific Islander': 1326, 'Native American/Native Alaskan': 917, 'White': 66237, 'Hispanic': 9022}\n"
     ]
    }
   ],
   "source": [
    "race=[each[7] for each in data]\n",
    "race_counts={}\n",
    "for each in race:\n",
    "    if each in race_counts:\n",
    "        race_counts[each]+=1\n",
    "    else:\n",
    "        race_counts[each]=1\n",
    "\n",
    "print(race_counts)"
   ]
  },
  {
   "cell_type": "code",
   "execution_count": 34,
   "metadata": {
    "collapsed": false
   },
   "outputs": [
    {
     "name": "stdout",
     "output_type": "stream",
     "text": [
      "[['Id', 'Year', 'Id', 'Sex', 'Id', 'Hispanic Origin', 'Id', 'Id2', 'Geography', 'Total', 'Race Alone - White', 'Race Alone - Hispanic', 'Race Alone - Black or African American', 'Race Alone - American Indian and Alaska Native', 'Race Alone - Asian', 'Race Alone - Native Hawaiian and Other Pacific Islander', 'Two or More Races'], ['cen42010', 'April 1, 2010 Census', 'totsex', 'Both Sexes', 'tothisp', 'Total', '0100000US', '', 'United States', '308745538', '197318956', '44618105', '40250635', '3739506', '15159516', '674625', '6984195']]\n"
     ]
    }
   ],
   "source": [
    "f=open(\"census.csv\")\n",
    "data1=list(csv.reader(f))\n",
    "print(data1)"
   ]
  },
  {
   "cell_type": "code",
   "execution_count": 35,
   "metadata": {
    "collapsed": false
   },
   "outputs": [
    {
     "name": "stdout",
     "output_type": "stream",
     "text": [
      "{'Black': 57.8773477735196, 'Asian/Pacific Islander': 8.374309664161762, 'Native American/Native Alaskan': 24.521955573811088, 'White': 33.56849303419181, 'Hispanic': 20.220491210910907}\n"
     ]
    }
   ],
   "source": [
    "mapping={\"Asian/Pacific Islander\":15834141, \"Black\":40250635, \"Native American/Native Alaskan\":3739506, \"Hispanic\":44618105, \"White\":197318956}\n",
    "race_per_hundredk={}\n",
    "for key in race_counts:\n",
    "    race_per_hundredk[key]=race_counts[key]/mapping[key]*100000\n",
    "    \n",
    "print(race_per_hundredk)"
   ]
  },
  {
   "cell_type": "code",
   "execution_count": 38,
   "metadata": {
    "collapsed": false
   },
   "outputs": [
    {
     "name": "stdout",
     "output_type": "stream",
     "text": [
      "{'Black': 48.471284987180944, 'Asian/Pacific Islander': 3.530346230970155, 'Native American/Native Alaskan': 8.717729026240365, 'White': 4.6356417981453335, 'Hispanic': 12.627161104219914}\n"
     ]
    }
   ],
   "source": [
    "intents=[each[3] for each in data]\n",
    "races=[each[7] for each in data]\n",
    "homicide_race_counts={}\n",
    "for i,race in enumerate(races):\n",
    "    if intents[i]==\"Homicide\":\n",
    "        if race not in homicide_race_counts:\n",
    "            homicide_race_counts[race]=1\n",
    "        else:\n",
    "            homicide_race_counts[race]+=1\n",
    "\n",
    "#print(homicide_race_counts)\n",
    "\n",
    "race_per_hundredk={}\n",
    "for key in homicide_race_counts:\n",
    "    race_per_hundredk[key]=homicide_race_counts[key]/mapping[key]*100000\n",
    "    \n",
    "print(race_per_hundredk)"
   ]
  },
  {
   "cell_type": "code",
   "execution_count": 39,
   "metadata": {
    "collapsed": false
   },
   "outputs": [
    {
     "name": "stdout",
     "output_type": "stream",
     "text": [
      "{'NA': 1, 'Accidental': 1639, 'Undetermined': 807, 'Homicide': 35176, 'Suicide': 63175}\n"
     ]
    }
   ],
   "source": [
    "intents=[each[3] for each in data]\n",
    "intent_counts={}\n",
    "for each in intents:\n",
    "    if each in intent_counts:\n",
    "        intent_counts[each]+=1\n",
    "    else:\n",
    "        intent_counts[each]=1\n",
    "\n",
    "print(intent_counts)"
   ]
  },
  {
   "cell_type": "code",
   "execution_count": null,
   "metadata": {
    "collapsed": true
   },
   "outputs": [],
   "source": []
  }
 ],
 "metadata": {
  "kernelspec": {
   "display_name": "Python 3",
   "language": "python",
   "name": "python3"
  },
  "language_info": {
   "codemirror_mode": {
    "name": "ipython",
    "version": 3
   },
   "file_extension": ".py",
   "mimetype": "text/x-python",
   "name": "python",
   "nbconvert_exporter": "python",
   "pygments_lexer": "ipython3",
   "version": "3.4.3"
  }
 },
 "nbformat": 4,
 "nbformat_minor": 0
}
