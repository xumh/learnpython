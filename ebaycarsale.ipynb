{
 "cells": [
  {
   "cell_type": "markdown",
   "metadata": {
    "collapsed": true
   },
   "source": [
    "My fist panda project about eBay used car"
   ]
  },
  {
   "cell_type": "code",
   "execution_count": 34,
   "metadata": {
    "collapsed": false
   },
   "outputs": [],
   "source": [
    "import pandas,numpy"
   ]
  },
  {
   "cell_type": "code",
   "execution_count": 35,
   "metadata": {
    "collapsed": false
   },
   "outputs": [],
   "source": [
    "autos=pandas.read_csv(\"autos.csv\", encoding=\"Latin-1\")"
   ]
  },
  {
   "cell_type": "code",
   "execution_count": 36,
   "metadata": {
    "collapsed": false
   },
   "outputs": [
    {
     "name": "stdout",
     "output_type": "stream",
     "text": [
      "<class 'pandas.core.frame.DataFrame'>\n",
      "RangeIndex: 50000 entries, 0 to 49999\n",
      "Data columns (total 20 columns):\n",
      "dateCrawled            50000 non-null object\n",
      "name                   50000 non-null object\n",
      "seller                 50000 non-null object\n",
      "offerType              50000 non-null object\n",
      "price                  50000 non-null object\n",
      "abtest                 50000 non-null object\n",
      "vehicleType            44905 non-null object\n",
      "yearOfRegistration     50000 non-null int64\n",
      "gearbox                47320 non-null object\n",
      "powerPS                50000 non-null int64\n",
      "model                  47242 non-null object\n",
      "odometer               50000 non-null object\n",
      "monthOfRegistration    50000 non-null int64\n",
      "fuelType               45518 non-null object\n",
      "brand                  50000 non-null object\n",
      "notRepairedDamage      40171 non-null object\n",
      "dateCreated            50000 non-null object\n",
      "nrOfPictures           50000 non-null int64\n",
      "postalCode             50000 non-null int64\n",
      "lastSeen               50000 non-null object\n",
      "dtypes: int64(5), object(15)\n",
      "memory usage: 7.6+ MB\n",
      "None\n",
      "           dateCrawled                                               name  \\\n",
      "0  2016-03-26 17:47:46                   Peugeot_807_160_NAVTECH_ON_BOARD   \n",
      "1  2016-04-04 13:38:56         BMW_740i_4_4_Liter_HAMANN_UMBAU_Mega_Optik   \n",
      "2  2016-03-26 18:57:24                         Volkswagen_Golf_1.6_United   \n",
      "3  2016-03-12 16:58:10  Smart_smart_fortwo_coupe_softouch/F1/Klima/Pan...   \n",
      "4  2016-04-01 14:38:50  Ford_Focus_1_6_Benzin_TÜV_neu_ist_sehr_gepfleg...   \n",
      "\n",
      "   seller offerType   price   abtest vehicleType  yearOfRegistration  \\\n",
      "0  privat   Angebot  $5,000  control         bus                2004   \n",
      "1  privat   Angebot  $8,500  control   limousine                1997   \n",
      "2  privat   Angebot  $8,990     test   limousine                2009   \n",
      "3  privat   Angebot  $4,350  control  kleinwagen                2007   \n",
      "4  privat   Angebot  $1,350     test       kombi                2003   \n",
      "\n",
      "     gearbox  powerPS   model   odometer  monthOfRegistration fuelType  \\\n",
      "0    manuell      158  andere  150,000km                    3      lpg   \n",
      "1  automatik      286     7er  150,000km                    6   benzin   \n",
      "2    manuell      102    golf   70,000km                    7   benzin   \n",
      "3  automatik       71  fortwo   70,000km                    6   benzin   \n",
      "4    manuell        0   focus  150,000km                    7   benzin   \n",
      "\n",
      "        brand notRepairedDamage          dateCreated  nrOfPictures  \\\n",
      "0     peugeot              nein  2016-03-26 00:00:00             0   \n",
      "1         bmw              nein  2016-04-04 00:00:00             0   \n",
      "2  volkswagen              nein  2016-03-26 00:00:00             0   \n",
      "3       smart              nein  2016-03-12 00:00:00             0   \n",
      "4        ford              nein  2016-04-01 00:00:00             0   \n",
      "\n",
      "   postalCode             lastSeen  \n",
      "0       79588  2016-04-06 06:45:54  \n",
      "1       71034  2016-04-06 14:45:08  \n",
      "2       35394  2016-04-06 20:15:37  \n",
      "3       33729  2016-03-15 03:16:28  \n",
      "4       39218  2016-04-01 14:38:50  \n"
     ]
    }
   ],
   "source": [
    "print(autos.info())\n",
    "print(autos.head())"
   ]
  },
  {
   "cell_type": "code",
   "execution_count": 37,
   "metadata": {
    "collapsed": false
   },
   "outputs": [
    {
     "name": "stdout",
     "output_type": "stream",
     "text": [
      "Index(['dateCrawled', 'name', 'seller', 'offerType', 'price', 'abtest',\n",
      "       'vehicleType', 'yearOfRegistration', 'gearbox', 'powerPS', 'model',\n",
      "       'odometer', 'monthOfRegistration', 'fuelType', 'brand',\n",
      "       'notRepairedDamage', 'dateCreated', 'nrOfPictures', 'postalCode',\n",
      "       'lastSeen'],\n",
      "      dtype='object')\n"
     ]
    }
   ],
   "source": [
    "print(autos.columns)\n"
   ]
  },
  {
   "cell_type": "code",
   "execution_count": 38,
   "metadata": {
    "collapsed": false,
    "scrolled": true
   },
   "outputs": [
    {
     "name": "stdout",
     "output_type": "stream",
     "text": [
      "Index(['date_crawled', 'name', 'seller', 'offer_type', 'price', 'abtest',\n",
      "       'vehiclec_type', 'registration_year', 'gearbox', 'power_PS', 'model',\n",
      "       'odometer', 'registration_month', 'fuel_type', 'brand',\n",
      "       'unrepaired_damage', 'ad_created', 'nr_of_pictures', 'postal_code',\n",
      "       'last_seen'],\n",
      "      dtype='object')\n",
      "          date_crawled                                               name  \\\n",
      "0  2016-03-26 17:47:46                   Peugeot_807_160_NAVTECH_ON_BOARD   \n",
      "1  2016-04-04 13:38:56         BMW_740i_4_4_Liter_HAMANN_UMBAU_Mega_Optik   \n",
      "2  2016-03-26 18:57:24                         Volkswagen_Golf_1.6_United   \n",
      "3  2016-03-12 16:58:10  Smart_smart_fortwo_coupe_softouch/F1/Klima/Pan...   \n",
      "4  2016-04-01 14:38:50  Ford_Focus_1_6_Benzin_TÜV_neu_ist_sehr_gepfleg...   \n",
      "\n",
      "   seller offer_type   price   abtest vehiclec_type  registration_year  \\\n",
      "0  privat    Angebot  $5,000  control           bus               2004   \n",
      "1  privat    Angebot  $8,500  control     limousine               1997   \n",
      "2  privat    Angebot  $8,990     test     limousine               2009   \n",
      "3  privat    Angebot  $4,350  control    kleinwagen               2007   \n",
      "4  privat    Angebot  $1,350     test         kombi               2003   \n",
      "\n",
      "     gearbox  power_PS   model   odometer  registration_month fuel_type  \\\n",
      "0    manuell       158  andere  150,000km                   3       lpg   \n",
      "1  automatik       286     7er  150,000km                   6    benzin   \n",
      "2    manuell       102    golf   70,000km                   7    benzin   \n",
      "3  automatik        71  fortwo   70,000km                   6    benzin   \n",
      "4    manuell         0   focus  150,000km                   7    benzin   \n",
      "\n",
      "        brand unrepaired_damage           ad_created  nr_of_pictures  \\\n",
      "0     peugeot              nein  2016-03-26 00:00:00               0   \n",
      "1         bmw              nein  2016-04-04 00:00:00               0   \n",
      "2  volkswagen              nein  2016-03-26 00:00:00               0   \n",
      "3       smart              nein  2016-03-12 00:00:00               0   \n",
      "4        ford              nein  2016-04-01 00:00:00               0   \n",
      "\n",
      "   postal_code            last_seen  \n",
      "0        79588  2016-04-06 06:45:54  \n",
      "1        71034  2016-04-06 14:45:08  \n",
      "2        35394  2016-04-06 20:15:37  \n",
      "3        33729  2016-03-15 03:16:28  \n",
      "4        39218  2016-04-01 14:38:50  \n"
     ]
    }
   ],
   "source": [
    "autos.columns=['date_crawled', 'name', 'seller', 'offer_type', 'price', 'abtest',\n",
    "       'vehiclec_type', 'registration_year', 'gearbox', 'power_PS', 'model',\n",
    "       'odometer', 'registration_month', 'fuel_type', 'brand',\n",
    "       'unrepaired_damage', 'ad_created', 'nr_of_pictures', 'postal_code',\n",
    "       'last_seen']\n",
    "print(autos.columns)\n",
    "print(autos.head())"
   ]
  },
  {
   "cell_type": "markdown",
   "metadata": {},
   "source": [
    "Data cleaning: price and kilometer into numeric values"
   ]
  },
  {
   "cell_type": "code",
   "execution_count": 39,
   "metadata": {
    "collapsed": false
   },
   "outputs": [
    {
     "data": {
      "text/html": [
       "<div>\n",
       "<style scoped>\n",
       "    .dataframe tbody tr th:only-of-type {\n",
       "        vertical-align: middle;\n",
       "    }\n",
       "\n",
       "    .dataframe tbody tr th {\n",
       "        vertical-align: top;\n",
       "    }\n",
       "\n",
       "    .dataframe thead th {\n",
       "        text-align: right;\n",
       "    }\n",
       "</style>\n",
       "<table border=\"1\" class=\"dataframe\">\n",
       "  <thead>\n",
       "    <tr style=\"text-align: right;\">\n",
       "      <th></th>\n",
       "      <th>date_crawled</th>\n",
       "      <th>name</th>\n",
       "      <th>seller</th>\n",
       "      <th>offer_type</th>\n",
       "      <th>price</th>\n",
       "      <th>abtest</th>\n",
       "      <th>vehiclec_type</th>\n",
       "      <th>registration_year</th>\n",
       "      <th>gearbox</th>\n",
       "      <th>power_PS</th>\n",
       "      <th>model</th>\n",
       "      <th>odometer</th>\n",
       "      <th>registration_month</th>\n",
       "      <th>fuel_type</th>\n",
       "      <th>brand</th>\n",
       "      <th>unrepaired_damage</th>\n",
       "      <th>ad_created</th>\n",
       "      <th>nr_of_pictures</th>\n",
       "      <th>postal_code</th>\n",
       "      <th>last_seen</th>\n",
       "    </tr>\n",
       "  </thead>\n",
       "  <tbody>\n",
       "    <tr>\n",
       "      <th>count</th>\n",
       "      <td>50000</td>\n",
       "      <td>50000</td>\n",
       "      <td>50000</td>\n",
       "      <td>50000</td>\n",
       "      <td>50000</td>\n",
       "      <td>50000</td>\n",
       "      <td>44905</td>\n",
       "      <td>50000.000000</td>\n",
       "      <td>47320</td>\n",
       "      <td>50000.000000</td>\n",
       "      <td>47242</td>\n",
       "      <td>50000</td>\n",
       "      <td>50000.000000</td>\n",
       "      <td>45518</td>\n",
       "      <td>50000</td>\n",
       "      <td>40171</td>\n",
       "      <td>50000</td>\n",
       "      <td>50000.0</td>\n",
       "      <td>50000.000000</td>\n",
       "      <td>50000</td>\n",
       "    </tr>\n",
       "    <tr>\n",
       "      <th>unique</th>\n",
       "      <td>48213</td>\n",
       "      <td>38754</td>\n",
       "      <td>2</td>\n",
       "      <td>2</td>\n",
       "      <td>2357</td>\n",
       "      <td>2</td>\n",
       "      <td>8</td>\n",
       "      <td>NaN</td>\n",
       "      <td>2</td>\n",
       "      <td>NaN</td>\n",
       "      <td>245</td>\n",
       "      <td>13</td>\n",
       "      <td>NaN</td>\n",
       "      <td>7</td>\n",
       "      <td>40</td>\n",
       "      <td>2</td>\n",
       "      <td>76</td>\n",
       "      <td>NaN</td>\n",
       "      <td>NaN</td>\n",
       "      <td>39481</td>\n",
       "    </tr>\n",
       "    <tr>\n",
       "      <th>top</th>\n",
       "      <td>2016-03-08 10:40:35</td>\n",
       "      <td>Ford_Fiesta</td>\n",
       "      <td>privat</td>\n",
       "      <td>Angebot</td>\n",
       "      <td>$0</td>\n",
       "      <td>test</td>\n",
       "      <td>limousine</td>\n",
       "      <td>NaN</td>\n",
       "      <td>manuell</td>\n",
       "      <td>NaN</td>\n",
       "      <td>golf</td>\n",
       "      <td>150,000km</td>\n",
       "      <td>NaN</td>\n",
       "      <td>benzin</td>\n",
       "      <td>volkswagen</td>\n",
       "      <td>nein</td>\n",
       "      <td>2016-04-03 00:00:00</td>\n",
       "      <td>NaN</td>\n",
       "      <td>NaN</td>\n",
       "      <td>2016-04-07 06:17:27</td>\n",
       "    </tr>\n",
       "    <tr>\n",
       "      <th>freq</th>\n",
       "      <td>3</td>\n",
       "      <td>78</td>\n",
       "      <td>49999</td>\n",
       "      <td>49999</td>\n",
       "      <td>1421</td>\n",
       "      <td>25756</td>\n",
       "      <td>12859</td>\n",
       "      <td>NaN</td>\n",
       "      <td>36993</td>\n",
       "      <td>NaN</td>\n",
       "      <td>4024</td>\n",
       "      <td>32424</td>\n",
       "      <td>NaN</td>\n",
       "      <td>30107</td>\n",
       "      <td>10687</td>\n",
       "      <td>35232</td>\n",
       "      <td>1946</td>\n",
       "      <td>NaN</td>\n",
       "      <td>NaN</td>\n",
       "      <td>8</td>\n",
       "    </tr>\n",
       "    <tr>\n",
       "      <th>mean</th>\n",
       "      <td>NaN</td>\n",
       "      <td>NaN</td>\n",
       "      <td>NaN</td>\n",
       "      <td>NaN</td>\n",
       "      <td>NaN</td>\n",
       "      <td>NaN</td>\n",
       "      <td>NaN</td>\n",
       "      <td>2005.073280</td>\n",
       "      <td>NaN</td>\n",
       "      <td>116.355920</td>\n",
       "      <td>NaN</td>\n",
       "      <td>NaN</td>\n",
       "      <td>5.723360</td>\n",
       "      <td>NaN</td>\n",
       "      <td>NaN</td>\n",
       "      <td>NaN</td>\n",
       "      <td>NaN</td>\n",
       "      <td>0.0</td>\n",
       "      <td>50813.627300</td>\n",
       "      <td>NaN</td>\n",
       "    </tr>\n",
       "    <tr>\n",
       "      <th>std</th>\n",
       "      <td>NaN</td>\n",
       "      <td>NaN</td>\n",
       "      <td>NaN</td>\n",
       "      <td>NaN</td>\n",
       "      <td>NaN</td>\n",
       "      <td>NaN</td>\n",
       "      <td>NaN</td>\n",
       "      <td>105.712813</td>\n",
       "      <td>NaN</td>\n",
       "      <td>209.216627</td>\n",
       "      <td>NaN</td>\n",
       "      <td>NaN</td>\n",
       "      <td>3.711984</td>\n",
       "      <td>NaN</td>\n",
       "      <td>NaN</td>\n",
       "      <td>NaN</td>\n",
       "      <td>NaN</td>\n",
       "      <td>0.0</td>\n",
       "      <td>25779.747957</td>\n",
       "      <td>NaN</td>\n",
       "    </tr>\n",
       "    <tr>\n",
       "      <th>min</th>\n",
       "      <td>NaN</td>\n",
       "      <td>NaN</td>\n",
       "      <td>NaN</td>\n",
       "      <td>NaN</td>\n",
       "      <td>NaN</td>\n",
       "      <td>NaN</td>\n",
       "      <td>NaN</td>\n",
       "      <td>1000.000000</td>\n",
       "      <td>NaN</td>\n",
       "      <td>0.000000</td>\n",
       "      <td>NaN</td>\n",
       "      <td>NaN</td>\n",
       "      <td>0.000000</td>\n",
       "      <td>NaN</td>\n",
       "      <td>NaN</td>\n",
       "      <td>NaN</td>\n",
       "      <td>NaN</td>\n",
       "      <td>0.0</td>\n",
       "      <td>1067.000000</td>\n",
       "      <td>NaN</td>\n",
       "    </tr>\n",
       "    <tr>\n",
       "      <th>25%</th>\n",
       "      <td>NaN</td>\n",
       "      <td>NaN</td>\n",
       "      <td>NaN</td>\n",
       "      <td>NaN</td>\n",
       "      <td>NaN</td>\n",
       "      <td>NaN</td>\n",
       "      <td>NaN</td>\n",
       "      <td>1999.000000</td>\n",
       "      <td>NaN</td>\n",
       "      <td>70.000000</td>\n",
       "      <td>NaN</td>\n",
       "      <td>NaN</td>\n",
       "      <td>3.000000</td>\n",
       "      <td>NaN</td>\n",
       "      <td>NaN</td>\n",
       "      <td>NaN</td>\n",
       "      <td>NaN</td>\n",
       "      <td>0.0</td>\n",
       "      <td>30451.000000</td>\n",
       "      <td>NaN</td>\n",
       "    </tr>\n",
       "    <tr>\n",
       "      <th>50%</th>\n",
       "      <td>NaN</td>\n",
       "      <td>NaN</td>\n",
       "      <td>NaN</td>\n",
       "      <td>NaN</td>\n",
       "      <td>NaN</td>\n",
       "      <td>NaN</td>\n",
       "      <td>NaN</td>\n",
       "      <td>2003.000000</td>\n",
       "      <td>NaN</td>\n",
       "      <td>105.000000</td>\n",
       "      <td>NaN</td>\n",
       "      <td>NaN</td>\n",
       "      <td>6.000000</td>\n",
       "      <td>NaN</td>\n",
       "      <td>NaN</td>\n",
       "      <td>NaN</td>\n",
       "      <td>NaN</td>\n",
       "      <td>0.0</td>\n",
       "      <td>49577.000000</td>\n",
       "      <td>NaN</td>\n",
       "    </tr>\n",
       "    <tr>\n",
       "      <th>75%</th>\n",
       "      <td>NaN</td>\n",
       "      <td>NaN</td>\n",
       "      <td>NaN</td>\n",
       "      <td>NaN</td>\n",
       "      <td>NaN</td>\n",
       "      <td>NaN</td>\n",
       "      <td>NaN</td>\n",
       "      <td>2008.000000</td>\n",
       "      <td>NaN</td>\n",
       "      <td>150.000000</td>\n",
       "      <td>NaN</td>\n",
       "      <td>NaN</td>\n",
       "      <td>9.000000</td>\n",
       "      <td>NaN</td>\n",
       "      <td>NaN</td>\n",
       "      <td>NaN</td>\n",
       "      <td>NaN</td>\n",
       "      <td>0.0</td>\n",
       "      <td>71540.000000</td>\n",
       "      <td>NaN</td>\n",
       "    </tr>\n",
       "    <tr>\n",
       "      <th>max</th>\n",
       "      <td>NaN</td>\n",
       "      <td>NaN</td>\n",
       "      <td>NaN</td>\n",
       "      <td>NaN</td>\n",
       "      <td>NaN</td>\n",
       "      <td>NaN</td>\n",
       "      <td>NaN</td>\n",
       "      <td>9999.000000</td>\n",
       "      <td>NaN</td>\n",
       "      <td>17700.000000</td>\n",
       "      <td>NaN</td>\n",
       "      <td>NaN</td>\n",
       "      <td>12.000000</td>\n",
       "      <td>NaN</td>\n",
       "      <td>NaN</td>\n",
       "      <td>NaN</td>\n",
       "      <td>NaN</td>\n",
       "      <td>0.0</td>\n",
       "      <td>99998.000000</td>\n",
       "      <td>NaN</td>\n",
       "    </tr>\n",
       "  </tbody>\n",
       "</table>\n",
       "</div>"
      ],
      "text/plain": [
       "               date_crawled         name  seller offer_type  price abtest  \\\n",
       "count                 50000        50000   50000      50000  50000  50000   \n",
       "unique                48213        38754       2          2   2357      2   \n",
       "top     2016-03-08 10:40:35  Ford_Fiesta  privat    Angebot     $0   test   \n",
       "freq                      3           78   49999      49999   1421  25756   \n",
       "mean                    NaN          NaN     NaN        NaN    NaN    NaN   \n",
       "std                     NaN          NaN     NaN        NaN    NaN    NaN   \n",
       "min                     NaN          NaN     NaN        NaN    NaN    NaN   \n",
       "25%                     NaN          NaN     NaN        NaN    NaN    NaN   \n",
       "50%                     NaN          NaN     NaN        NaN    NaN    NaN   \n",
       "75%                     NaN          NaN     NaN        NaN    NaN    NaN   \n",
       "max                     NaN          NaN     NaN        NaN    NaN    NaN   \n",
       "\n",
       "       vehiclec_type  registration_year  gearbox      power_PS  model  \\\n",
       "count          44905       50000.000000    47320  50000.000000  47242   \n",
       "unique             8                NaN        2           NaN    245   \n",
       "top        limousine                NaN  manuell           NaN   golf   \n",
       "freq           12859                NaN    36993           NaN   4024   \n",
       "mean             NaN        2005.073280      NaN    116.355920    NaN   \n",
       "std              NaN         105.712813      NaN    209.216627    NaN   \n",
       "min              NaN        1000.000000      NaN      0.000000    NaN   \n",
       "25%              NaN        1999.000000      NaN     70.000000    NaN   \n",
       "50%              NaN        2003.000000      NaN    105.000000    NaN   \n",
       "75%              NaN        2008.000000      NaN    150.000000    NaN   \n",
       "max              NaN        9999.000000      NaN  17700.000000    NaN   \n",
       "\n",
       "         odometer  registration_month fuel_type       brand unrepaired_damage  \\\n",
       "count       50000        50000.000000     45518       50000             40171   \n",
       "unique         13                 NaN         7          40                 2   \n",
       "top     150,000km                 NaN    benzin  volkswagen              nein   \n",
       "freq        32424                 NaN     30107       10687             35232   \n",
       "mean          NaN            5.723360       NaN         NaN               NaN   \n",
       "std           NaN            3.711984       NaN         NaN               NaN   \n",
       "min           NaN            0.000000       NaN         NaN               NaN   \n",
       "25%           NaN            3.000000       NaN         NaN               NaN   \n",
       "50%           NaN            6.000000       NaN         NaN               NaN   \n",
       "75%           NaN            9.000000       NaN         NaN               NaN   \n",
       "max           NaN           12.000000       NaN         NaN               NaN   \n",
       "\n",
       "                 ad_created  nr_of_pictures   postal_code            last_seen  \n",
       "count                 50000         50000.0  50000.000000                50000  \n",
       "unique                   76             NaN           NaN                39481  \n",
       "top     2016-04-03 00:00:00             NaN           NaN  2016-04-07 06:17:27  \n",
       "freq                   1946             NaN           NaN                    8  \n",
       "mean                    NaN             0.0  50813.627300                  NaN  \n",
       "std                     NaN             0.0  25779.747957                  NaN  \n",
       "min                     NaN             0.0   1067.000000                  NaN  \n",
       "25%                     NaN             0.0  30451.000000                  NaN  \n",
       "50%                     NaN             0.0  49577.000000                  NaN  \n",
       "75%                     NaN             0.0  71540.000000                  NaN  \n",
       "max                     NaN             0.0  99998.000000                  NaN  "
      ]
     },
     "execution_count": 39,
     "metadata": {},
     "output_type": "execute_result"
    }
   ],
   "source": [
    "autos.describe(include='all')"
   ]
  },
  {
   "cell_type": "markdown",
   "metadata": {},
   "source": [
    "seller, offer_type, abtest, gearbox, unrepaired_damage only have 2 values\n",
    "postal_code has decimal points..."
   ]
  },
  {
   "cell_type": "code",
   "execution_count": 40,
   "metadata": {
    "collapsed": false
   },
   "outputs": [
    {
     "data": {
      "text/html": [
       "<div>\n",
       "<style scoped>\n",
       "    .dataframe tbody tr th:only-of-type {\n",
       "        vertical-align: middle;\n",
       "    }\n",
       "\n",
       "    .dataframe tbody tr th {\n",
       "        vertical-align: top;\n",
       "    }\n",
       "\n",
       "    .dataframe thead th {\n",
       "        text-align: right;\n",
       "    }\n",
       "</style>\n",
       "<table border=\"1\" class=\"dataframe\">\n",
       "  <thead>\n",
       "    <tr style=\"text-align: right;\">\n",
       "      <th></th>\n",
       "      <th>date_crawled</th>\n",
       "      <th>name</th>\n",
       "      <th>seller</th>\n",
       "      <th>offer_type</th>\n",
       "      <th>price</th>\n",
       "      <th>abtest</th>\n",
       "      <th>vehiclec_type</th>\n",
       "      <th>registration_year</th>\n",
       "      <th>gearbox</th>\n",
       "      <th>power_PS</th>\n",
       "      <th>...</th>\n",
       "      <th>odometer</th>\n",
       "      <th>registration_month</th>\n",
       "      <th>fuel_type</th>\n",
       "      <th>brand</th>\n",
       "      <th>unrepaired_damage</th>\n",
       "      <th>ad_created</th>\n",
       "      <th>nr_of_pictures</th>\n",
       "      <th>postal_code</th>\n",
       "      <th>last_seen</th>\n",
       "      <th>odometer_km</th>\n",
       "    </tr>\n",
       "  </thead>\n",
       "  <tbody>\n",
       "    <tr>\n",
       "      <th>count</th>\n",
       "      <td>50000</td>\n",
       "      <td>50000</td>\n",
       "      <td>50000</td>\n",
       "      <td>50000</td>\n",
       "      <td>5.000000e+04</td>\n",
       "      <td>50000</td>\n",
       "      <td>44905</td>\n",
       "      <td>50000.000000</td>\n",
       "      <td>47320</td>\n",
       "      <td>50000.000000</td>\n",
       "      <td>...</td>\n",
       "      <td>50000</td>\n",
       "      <td>50000.000000</td>\n",
       "      <td>45518</td>\n",
       "      <td>50000</td>\n",
       "      <td>40171</td>\n",
       "      <td>50000</td>\n",
       "      <td>50000.0</td>\n",
       "      <td>50000.000000</td>\n",
       "      <td>50000</td>\n",
       "      <td>50000.000000</td>\n",
       "    </tr>\n",
       "    <tr>\n",
       "      <th>unique</th>\n",
       "      <td>48213</td>\n",
       "      <td>38754</td>\n",
       "      <td>2</td>\n",
       "      <td>2</td>\n",
       "      <td>NaN</td>\n",
       "      <td>2</td>\n",
       "      <td>8</td>\n",
       "      <td>NaN</td>\n",
       "      <td>2</td>\n",
       "      <td>NaN</td>\n",
       "      <td>...</td>\n",
       "      <td>13</td>\n",
       "      <td>NaN</td>\n",
       "      <td>7</td>\n",
       "      <td>40</td>\n",
       "      <td>2</td>\n",
       "      <td>76</td>\n",
       "      <td>NaN</td>\n",
       "      <td>NaN</td>\n",
       "      <td>39481</td>\n",
       "      <td>NaN</td>\n",
       "    </tr>\n",
       "    <tr>\n",
       "      <th>top</th>\n",
       "      <td>2016-03-08 10:40:35</td>\n",
       "      <td>Ford_Fiesta</td>\n",
       "      <td>privat</td>\n",
       "      <td>Angebot</td>\n",
       "      <td>NaN</td>\n",
       "      <td>test</td>\n",
       "      <td>limousine</td>\n",
       "      <td>NaN</td>\n",
       "      <td>manuell</td>\n",
       "      <td>NaN</td>\n",
       "      <td>...</td>\n",
       "      <td>150,000km</td>\n",
       "      <td>NaN</td>\n",
       "      <td>benzin</td>\n",
       "      <td>volkswagen</td>\n",
       "      <td>nein</td>\n",
       "      <td>2016-04-03 00:00:00</td>\n",
       "      <td>NaN</td>\n",
       "      <td>NaN</td>\n",
       "      <td>2016-04-07 06:17:27</td>\n",
       "      <td>NaN</td>\n",
       "    </tr>\n",
       "    <tr>\n",
       "      <th>freq</th>\n",
       "      <td>3</td>\n",
       "      <td>78</td>\n",
       "      <td>49999</td>\n",
       "      <td>49999</td>\n",
       "      <td>NaN</td>\n",
       "      <td>25756</td>\n",
       "      <td>12859</td>\n",
       "      <td>NaN</td>\n",
       "      <td>36993</td>\n",
       "      <td>NaN</td>\n",
       "      <td>...</td>\n",
       "      <td>32424</td>\n",
       "      <td>NaN</td>\n",
       "      <td>30107</td>\n",
       "      <td>10687</td>\n",
       "      <td>35232</td>\n",
       "      <td>1946</td>\n",
       "      <td>NaN</td>\n",
       "      <td>NaN</td>\n",
       "      <td>8</td>\n",
       "      <td>NaN</td>\n",
       "    </tr>\n",
       "    <tr>\n",
       "      <th>mean</th>\n",
       "      <td>NaN</td>\n",
       "      <td>NaN</td>\n",
       "      <td>NaN</td>\n",
       "      <td>NaN</td>\n",
       "      <td>9.840044e+03</td>\n",
       "      <td>NaN</td>\n",
       "      <td>NaN</td>\n",
       "      <td>2005.073280</td>\n",
       "      <td>NaN</td>\n",
       "      <td>116.355920</td>\n",
       "      <td>...</td>\n",
       "      <td>NaN</td>\n",
       "      <td>5.723360</td>\n",
       "      <td>NaN</td>\n",
       "      <td>NaN</td>\n",
       "      <td>NaN</td>\n",
       "      <td>NaN</td>\n",
       "      <td>0.0</td>\n",
       "      <td>50813.627300</td>\n",
       "      <td>NaN</td>\n",
       "      <td>125732.700000</td>\n",
       "    </tr>\n",
       "    <tr>\n",
       "      <th>std</th>\n",
       "      <td>NaN</td>\n",
       "      <td>NaN</td>\n",
       "      <td>NaN</td>\n",
       "      <td>NaN</td>\n",
       "      <td>4.811044e+05</td>\n",
       "      <td>NaN</td>\n",
       "      <td>NaN</td>\n",
       "      <td>105.712813</td>\n",
       "      <td>NaN</td>\n",
       "      <td>209.216627</td>\n",
       "      <td>...</td>\n",
       "      <td>NaN</td>\n",
       "      <td>3.711984</td>\n",
       "      <td>NaN</td>\n",
       "      <td>NaN</td>\n",
       "      <td>NaN</td>\n",
       "      <td>NaN</td>\n",
       "      <td>0.0</td>\n",
       "      <td>25779.747957</td>\n",
       "      <td>NaN</td>\n",
       "      <td>40042.211706</td>\n",
       "    </tr>\n",
       "    <tr>\n",
       "      <th>min</th>\n",
       "      <td>NaN</td>\n",
       "      <td>NaN</td>\n",
       "      <td>NaN</td>\n",
       "      <td>NaN</td>\n",
       "      <td>0.000000e+00</td>\n",
       "      <td>NaN</td>\n",
       "      <td>NaN</td>\n",
       "      <td>1000.000000</td>\n",
       "      <td>NaN</td>\n",
       "      <td>0.000000</td>\n",
       "      <td>...</td>\n",
       "      <td>NaN</td>\n",
       "      <td>0.000000</td>\n",
       "      <td>NaN</td>\n",
       "      <td>NaN</td>\n",
       "      <td>NaN</td>\n",
       "      <td>NaN</td>\n",
       "      <td>0.0</td>\n",
       "      <td>1067.000000</td>\n",
       "      <td>NaN</td>\n",
       "      <td>5000.000000</td>\n",
       "    </tr>\n",
       "    <tr>\n",
       "      <th>25%</th>\n",
       "      <td>NaN</td>\n",
       "      <td>NaN</td>\n",
       "      <td>NaN</td>\n",
       "      <td>NaN</td>\n",
       "      <td>1.100000e+03</td>\n",
       "      <td>NaN</td>\n",
       "      <td>NaN</td>\n",
       "      <td>1999.000000</td>\n",
       "      <td>NaN</td>\n",
       "      <td>70.000000</td>\n",
       "      <td>...</td>\n",
       "      <td>NaN</td>\n",
       "      <td>3.000000</td>\n",
       "      <td>NaN</td>\n",
       "      <td>NaN</td>\n",
       "      <td>NaN</td>\n",
       "      <td>NaN</td>\n",
       "      <td>0.0</td>\n",
       "      <td>30451.000000</td>\n",
       "      <td>NaN</td>\n",
       "      <td>125000.000000</td>\n",
       "    </tr>\n",
       "    <tr>\n",
       "      <th>50%</th>\n",
       "      <td>NaN</td>\n",
       "      <td>NaN</td>\n",
       "      <td>NaN</td>\n",
       "      <td>NaN</td>\n",
       "      <td>2.950000e+03</td>\n",
       "      <td>NaN</td>\n",
       "      <td>NaN</td>\n",
       "      <td>2003.000000</td>\n",
       "      <td>NaN</td>\n",
       "      <td>105.000000</td>\n",
       "      <td>...</td>\n",
       "      <td>NaN</td>\n",
       "      <td>6.000000</td>\n",
       "      <td>NaN</td>\n",
       "      <td>NaN</td>\n",
       "      <td>NaN</td>\n",
       "      <td>NaN</td>\n",
       "      <td>0.0</td>\n",
       "      <td>49577.000000</td>\n",
       "      <td>NaN</td>\n",
       "      <td>150000.000000</td>\n",
       "    </tr>\n",
       "    <tr>\n",
       "      <th>75%</th>\n",
       "      <td>NaN</td>\n",
       "      <td>NaN</td>\n",
       "      <td>NaN</td>\n",
       "      <td>NaN</td>\n",
       "      <td>7.200000e+03</td>\n",
       "      <td>NaN</td>\n",
       "      <td>NaN</td>\n",
       "      <td>2008.000000</td>\n",
       "      <td>NaN</td>\n",
       "      <td>150.000000</td>\n",
       "      <td>...</td>\n",
       "      <td>NaN</td>\n",
       "      <td>9.000000</td>\n",
       "      <td>NaN</td>\n",
       "      <td>NaN</td>\n",
       "      <td>NaN</td>\n",
       "      <td>NaN</td>\n",
       "      <td>0.0</td>\n",
       "      <td>71540.000000</td>\n",
       "      <td>NaN</td>\n",
       "      <td>150000.000000</td>\n",
       "    </tr>\n",
       "    <tr>\n",
       "      <th>max</th>\n",
       "      <td>NaN</td>\n",
       "      <td>NaN</td>\n",
       "      <td>NaN</td>\n",
       "      <td>NaN</td>\n",
       "      <td>1.000000e+08</td>\n",
       "      <td>NaN</td>\n",
       "      <td>NaN</td>\n",
       "      <td>9999.000000</td>\n",
       "      <td>NaN</td>\n",
       "      <td>17700.000000</td>\n",
       "      <td>...</td>\n",
       "      <td>NaN</td>\n",
       "      <td>12.000000</td>\n",
       "      <td>NaN</td>\n",
       "      <td>NaN</td>\n",
       "      <td>NaN</td>\n",
       "      <td>NaN</td>\n",
       "      <td>0.0</td>\n",
       "      <td>99998.000000</td>\n",
       "      <td>NaN</td>\n",
       "      <td>150000.000000</td>\n",
       "    </tr>\n",
       "  </tbody>\n",
       "</table>\n",
       "<p>11 rows × 21 columns</p>\n",
       "</div>"
      ],
      "text/plain": [
       "               date_crawled         name  seller offer_type         price  \\\n",
       "count                 50000        50000   50000      50000  5.000000e+04   \n",
       "unique                48213        38754       2          2           NaN   \n",
       "top     2016-03-08 10:40:35  Ford_Fiesta  privat    Angebot           NaN   \n",
       "freq                      3           78   49999      49999           NaN   \n",
       "mean                    NaN          NaN     NaN        NaN  9.840044e+03   \n",
       "std                     NaN          NaN     NaN        NaN  4.811044e+05   \n",
       "min                     NaN          NaN     NaN        NaN  0.000000e+00   \n",
       "25%                     NaN          NaN     NaN        NaN  1.100000e+03   \n",
       "50%                     NaN          NaN     NaN        NaN  2.950000e+03   \n",
       "75%                     NaN          NaN     NaN        NaN  7.200000e+03   \n",
       "max                     NaN          NaN     NaN        NaN  1.000000e+08   \n",
       "\n",
       "       abtest vehiclec_type  registration_year  gearbox      power_PS  \\\n",
       "count   50000         44905       50000.000000    47320  50000.000000   \n",
       "unique      2             8                NaN        2           NaN   \n",
       "top      test     limousine                NaN  manuell           NaN   \n",
       "freq    25756         12859                NaN    36993           NaN   \n",
       "mean      NaN           NaN        2005.073280      NaN    116.355920   \n",
       "std       NaN           NaN         105.712813      NaN    209.216627   \n",
       "min       NaN           NaN        1000.000000      NaN      0.000000   \n",
       "25%       NaN           NaN        1999.000000      NaN     70.000000   \n",
       "50%       NaN           NaN        2003.000000      NaN    105.000000   \n",
       "75%       NaN           NaN        2008.000000      NaN    150.000000   \n",
       "max       NaN           NaN        9999.000000      NaN  17700.000000   \n",
       "\n",
       "            ...         odometer registration_month  fuel_type       brand  \\\n",
       "count       ...            50000       50000.000000      45518       50000   \n",
       "unique      ...               13                NaN          7          40   \n",
       "top         ...        150,000km                NaN     benzin  volkswagen   \n",
       "freq        ...            32424                NaN      30107       10687   \n",
       "mean        ...              NaN           5.723360        NaN         NaN   \n",
       "std         ...              NaN           3.711984        NaN         NaN   \n",
       "min         ...              NaN           0.000000        NaN         NaN   \n",
       "25%         ...              NaN           3.000000        NaN         NaN   \n",
       "50%         ...              NaN           6.000000        NaN         NaN   \n",
       "75%         ...              NaN           9.000000        NaN         NaN   \n",
       "max         ...              NaN          12.000000        NaN         NaN   \n",
       "\n",
       "       unrepaired_damage           ad_created nr_of_pictures   postal_code  \\\n",
       "count              40171                50000        50000.0  50000.000000   \n",
       "unique                 2                   76            NaN           NaN   \n",
       "top                 nein  2016-04-03 00:00:00            NaN           NaN   \n",
       "freq               35232                 1946            NaN           NaN   \n",
       "mean                 NaN                  NaN            0.0  50813.627300   \n",
       "std                  NaN                  NaN            0.0  25779.747957   \n",
       "min                  NaN                  NaN            0.0   1067.000000   \n",
       "25%                  NaN                  NaN            0.0  30451.000000   \n",
       "50%                  NaN                  NaN            0.0  49577.000000   \n",
       "75%                  NaN                  NaN            0.0  71540.000000   \n",
       "max                  NaN                  NaN            0.0  99998.000000   \n",
       "\n",
       "                  last_seen    odometer_km  \n",
       "count                 50000   50000.000000  \n",
       "unique                39481            NaN  \n",
       "top     2016-04-07 06:17:27            NaN  \n",
       "freq                      8            NaN  \n",
       "mean                    NaN  125732.700000  \n",
       "std                     NaN   40042.211706  \n",
       "min                     NaN    5000.000000  \n",
       "25%                     NaN  125000.000000  \n",
       "50%                     NaN  150000.000000  \n",
       "75%                     NaN  150000.000000  \n",
       "max                     NaN  150000.000000  \n",
       "\n",
       "[11 rows x 21 columns]"
      ]
     },
     "execution_count": 40,
     "metadata": {},
     "output_type": "execute_result"
    }
   ],
   "source": [
    "autos[\"odometer_km\"]=autos[\"odometer\"]\n",
    "\n",
    "autos[\"odometer_km\"] = (autos[\"odometer_km\"]\n",
    "                        .str.replace('km','')\n",
    "                        .str.replace(',','')\n",
    "                        .astype(float))\n",
    "\n",
    "autos[\"price\"] = (autos[\"price\"]\n",
    "                  .str.replace('$','')\n",
    "                  .str.replace(',','')\n",
    "                  .astype(float))\n",
    "autos.describe(include='all')"
   ]
  },
  {
   "cell_type": "code",
   "execution_count": 41,
   "metadata": {
    "collapsed": false
   },
   "outputs": [
    {
     "data": {
      "text/plain": [
       "count    48185.000000\n",
       "mean      5796.099741\n",
       "std       7525.532405\n",
       "min        100.000000\n",
       "25%       1250.000000\n",
       "50%       3000.000000\n",
       "75%       7499.000000\n",
       "max      99900.000000\n",
       "Name: price, dtype: float64"
      ]
     },
     "execution_count": 41,
     "metadata": {},
     "output_type": "execute_result"
    }
   ],
   "source": [
    "autos[\"price\"].unique().shape\n",
    "autos[\"price\"].head(100).value_counts()\n",
    "autos[\"price\"].sort_values(ascending=True).head(100)\n",
    "autos=autos[autos[\"price\"].between(100,100000)]\n",
    "autos[\"price\"].describe()"
   ]
  },
  {
   "cell_type": "code",
   "execution_count": 42,
   "metadata": {
    "collapsed": false
   },
   "outputs": [
    {
     "data": {
      "text/plain": [
       "150000.0    31209\n",
       "125000.0     5035\n",
       "100000.0     2099\n",
       "90000.0      1733\n",
       "80000.0      1411\n",
       "70000.0      1214\n",
       "60000.0      1151\n",
       "50000.0      1007\n",
       "40000.0       813\n",
       "30000.0       771\n",
       "5000.0        751\n",
       "20000.0       749\n",
       "10000.0       242\n",
       "Name: odometer_km, dtype: int64"
      ]
     },
     "execution_count": 42,
     "metadata": {},
     "output_type": "execute_result"
    }
   ],
   "source": [
    "autos[\"odometer_km\"].unique().shape\n",
    "autos[\"odometer_km\"].head(200).value_counts()\n",
    "autos[\"odometer_km\"].sort_values(ascending=True)\n",
    "autos[\"odometer_km\"].describe()\n",
    "autos[\"odometer_km\"].value_counts()"
   ]
  },
  {
   "cell_type": "markdown",
   "metadata": {},
   "source": [
    "Data cleaning: date"
   ]
  },
  {
   "cell_type": "code",
   "execution_count": 43,
   "metadata": {
    "collapsed": false
   },
   "outputs": [
    {
     "data": {
      "text/plain": [
       "0        20160326\n",
       "1        20160404\n",
       "2        20160326\n",
       "3        20160312\n",
       "4        20160401\n",
       "5        20160321\n",
       "6        20160320\n",
       "7        20160316\n",
       "8        20160322\n",
       "9        20160316\n",
       "10       20160315\n",
       "11       20160316\n",
       "12       20160331\n",
       "13       20160323\n",
       "14       20160323\n",
       "15       20160401\n",
       "16       20160316\n",
       "17       20160329\n",
       "18       20160326\n",
       "19       20160317\n",
       "20       20160305\n",
       "21       20160306\n",
       "22       20160328\n",
       "23       20160310\n",
       "24       20160403\n",
       "26       20160403\n",
       "28       20160319\n",
       "29       20160402\n",
       "31       20160314\n",
       "32       20160320\n",
       "           ...   \n",
       "49968    20160401\n",
       "49969    20160317\n",
       "49970    20160321\n",
       "49971    20160329\n",
       "49972    20160326\n",
       "49973    20160327\n",
       "49975    20160327\n",
       "49976    20160319\n",
       "49977    20160331\n",
       "49978    20160404\n",
       "49979    20160320\n",
       "49980    20160312\n",
       "49981    20160315\n",
       "49982    20160329\n",
       "49983    20160306\n",
       "49985    20160402\n",
       "49986    20160404\n",
       "49987    20160322\n",
       "49988    20160328\n",
       "49989    20160311\n",
       "49990    20160321\n",
       "49991    20160306\n",
       "49992    20160310\n",
       "49993    20160315\n",
       "49994    20160322\n",
       "49995    20160327\n",
       "49996    20160328\n",
       "49997    20160402\n",
       "49998    20160308\n",
       "49999    20160314\n",
       "Name: date_crawled_datetime, Length: 48185, dtype: int64"
      ]
     },
     "execution_count": 43,
     "metadata": {},
     "output_type": "execute_result"
    }
   ],
   "source": [
    "from datetime import datetime\n",
    "#2016-03-30 19:48:02\n",
    "autos[\"date_crawled\"].describe()\n",
    "autos[\"last_seen\"].describe()\n",
    "autos[\"ad_created\"].describe()\n",
    "autos[\"ad_created\"].value_counts(normalize=True, dropna=False).head(5)\n",
    "autos[\"ad_created\"].str[:10].sort_values(ascending=True)\n",
    "\n",
    "#autos[\"date_crawled_datetime\"]=pandas.to_datetime((autos[\"date_crawled_datetime\"], format=\"%Y%m%d\")\n",
    "#autos[\"date_crawled_datetime\"]= pandas.to_datetime((autos[\"date_crawled\"].str[:10].str.replace('-','')), format=\"%Y%m%d\")\n",
    "autos[\"date_crawled_datetime\"]= autos[\"date_crawled\"].str[:10].str.replace('-','')\n",
    "autos[\"date_crawled_datetime\"].astype(int)\n"
   ]
  },
  {
   "cell_type": "markdown",
   "metadata": {
    "collapsed": true
   },
   "source": [
    "Remove observations not in the range of 1900 - 2016"
   ]
  },
  {
   "cell_type": "code",
   "execution_count": 45,
   "metadata": {
    "collapsed": false,
    "scrolled": true
   },
   "outputs": [
    {
     "data": {
      "text/plain": [
       "count    46313.000000\n",
       "mean      2002.937750\n",
       "std          7.118096\n",
       "min       1910.000000\n",
       "25%       1999.000000\n",
       "50%       2003.000000\n",
       "75%       2008.000000\n",
       "max       2016.000000\n",
       "Name: registration_year, dtype: float64"
      ]
     },
     "execution_count": 45,
     "metadata": {},
     "output_type": "execute_result"
    }
   ],
   "source": [
    "autos[\"registration_year\"].describe()\n",
    "autos[\"registration_year\"].sort_values(ascending=True)\n",
    "autos=autos[autos[\"registration_year\"].between(1900,2016)]\n",
    "autos[\"registration_year\"].describe()"
   ]
  },
  {
   "cell_type": "markdown",
   "metadata": {},
   "source": [
    "Explore top car brands vs. average price and mileage"
   ]
  },
  {
   "cell_type": "code",
   "execution_count": 46,
   "metadata": {
    "collapsed": false
   },
   "outputs": [
    {
     "data": {
      "text/plain": [
       "volkswagen        0.211582\n",
       "bmw               0.110207\n",
       "opel              0.107335\n",
       "mercedes_benz     0.096668\n",
       "audi              0.086822\n",
       "ford              0.069872\n",
       "renault           0.047114\n",
       "peugeot           0.029884\n",
       "fiat              0.025630\n",
       "seat              0.018267\n",
       "skoda             0.016432\n",
       "nissan            0.015352\n",
       "mazda             0.015244\n",
       "smart             0.014208\n",
       "citroen           0.014057\n",
       "toyota            0.012804\n",
       "hyundai           0.010019\n",
       "sonstige_autos    0.009436\n",
       "volvo             0.009134\n",
       "mini              0.008810\n",
       "Name: brand, dtype: float64"
      ]
     },
     "execution_count": 46,
     "metadata": {},
     "output_type": "execute_result"
    }
   ],
   "source": [
    "autos[\"brand\"].unique()\n",
    "top20=autos[\"brand\"].value_counts(normalize=True, dropna=False).head(20)\n",
    "top20"
   ]
  },
  {
   "cell_type": "code",
   "execution_count": 47,
   "metadata": {
    "collapsed": false
   },
   "outputs": [
    {
     "name": "stdout",
     "output_type": "stream",
     "text": [
      "{'sonstige_autos': 10943.649885583523, 'skoda': 6409.609724047306, 'opel': 3005.4960772480385, 'toyota': 5167.091062394604, 'smart': 3596.40273556231, 'ford': 3740.2639060568604, 'renault': 2496.070577451879, 'citroen': 3796.26267281106, 'peugeot': 3113.860549132948, 'seat': 4433.419621749409, 'mercedes_benz': 8573.484922939468, 'mini': 10639.450980392157, 'fiat': 2836.8736310025274, 'hyundai': 5411.075431034483, 'nissan': 4756.659634317863, 'audi': 9339.529967669734, 'volkswagen': 5436.950096948668, 'mazda': 4129.774787535411, 'volvo': 4993.208037825059, 'bmw': 8249.652429467085}\n"
     ]
    }
   ],
   "source": [
    "carprice={}\n",
    "for brand in top20.index:\n",
    "    price=autos[autos[\"brand\"]==brand]['price'].mean()\n",
    "    carprice[brand]=price\n",
    "    \n",
    "print(carprice)   "
   ]
  },
  {
   "cell_type": "code",
   "execution_count": 48,
   "metadata": {
    "collapsed": false
   },
   "outputs": [
    {
     "name": "stdout",
     "output_type": "stream",
     "text": [
      "{'sonstige_autos': 91109.83981693364, 'skoda': 110906.70170827858, 'opel': 129384.42969221485, 'toyota': 115944.35075885328, 'smart': 99734.0425531915, 'ford': 124300.06180469715, 'renault': 128281.3932172319, 'citroen': 119554.53149001536, 'peugeot': 127127.8901734104, 'seat': 121536.64302600473, 'mercedes_benz': 131088.89881617154, 'mini': 88308.82352941176, 'fiat': 116950.29486099411, 'hyundai': 106885.77586206897, 'nissan': 118326.30098452883, 'audi': 129276.29942800298, 'volkswagen': 128799.87753852434, 'mazda': 124553.82436260623, 'volvo': 138581.56028368796, 'bmw': 132756.66144200627}\n"
     ]
    }
   ],
   "source": [
    "carmileage={}\n",
    "for brand in top20.index:\n",
    "    mile=autos[autos[\"brand\"]==brand]['odometer_km'].mean()\n",
    "    carmileage[brand]=mile\n",
    "    \n",
    "print(carmileage)   "
   ]
  },
  {
   "cell_type": "code",
   "execution_count": 49,
   "metadata": {
    "collapsed": false
   },
   "outputs": [
    {
     "name": "stdout",
     "output_type": "stream",
     "text": [
      "                  mean_price   mean_mileage\n",
      "audi             9339.529968  129276.299428\n",
      "bmw              8249.652429  132756.661442\n",
      "citroen          3796.262673  119554.531490\n",
      "fiat             2836.873631  116950.294861\n",
      "ford             3740.263906  124300.061805\n",
      "hyundai          5411.075431  106885.775862\n",
      "mazda            4129.774788  124553.824363\n",
      "mercedes_benz    8573.484923  131088.898816\n",
      "mini            10639.450980   88308.823529\n",
      "nissan           4756.659634  118326.300985\n",
      "opel             3005.496077  129384.429692\n",
      "peugeot          3113.860549  127127.890173\n",
      "renault          2496.070577  128281.393217\n",
      "seat             4433.419622  121536.643026\n",
      "skoda            6409.609724  110906.701708\n",
      "smart            3596.402736   99734.042553\n",
      "sonstige_autos  10943.649886   91109.839817\n",
      "toyota           5167.091062  115944.350759\n",
      "volkswagen       5436.950097  128799.877539\n",
      "volvo            4993.208038  138581.560284\n"
     ]
    }
   ],
   "source": [
    "bmp_series = pandas.Series(carprice)\n",
    "bmm_series = pandas.Series(carmileage)\n",
    "df_price_mil = pandas.DataFrame(bmp_series, columns=['mean_price'])\n",
    "df_price_mil['mean_mileage']=pandas.Series(carmileage)\n",
    "print(df_price_mil)"
   ]
  },
  {
   "cell_type": "markdown",
   "metadata": {
    "collapsed": false
   },
   "source": [
    "Find out top car models"
   ]
  },
  {
   "cell_type": "code",
   "execution_count": 80,
   "metadata": {
    "collapsed": false
   },
   "outputs": [
    {
     "data": {
      "text/plain": [
       "Volkswagen_Golf_1.4-golf                                                    75\n",
       "BMW_316i-3er                                                                75\n",
       "Ford_Fiesta-fiesta                                                          73\n",
       "BMW_318i-3er                                                                72\n",
       "BMW_320i-3er                                                                71\n",
       "Volkswagen_Polo-polo                                                        70\n",
       "Opel_Corsa-corsa                                                            67\n",
       "Renault_Twingo-twingo                                                       58\n",
       "Volkswagen_Golf-golf                                                        57\n",
       "Opel_Corsa_1.2_16V-corsa                                                    56\n",
       "BMW_116i-1er                                                                53\n",
       "Volkswagen_Polo_1.2-polo                                                    48\n",
       "Volkswagen_Golf_1.6-golf                                                    47\n",
       "Ford_Focus-focus                                                            44\n",
       "Opel_Corsa_B-corsa                                                          43\n",
       "Opel_Corsa_1.0_12V-corsa                                                    40\n",
       "Volkswagen_Passat_Variant_1.9_TDI-passat                                    39\n",
       "BMW_320d_DPF_Touring-3er                                                    37\n",
       "BMW_520i-5er                                                                37\n",
       "Peugeot_206-2_reihe                                                         35\n",
       "Opel_Astra-astra                                                            35\n",
       "Audi_A4_Avant_2.0_TDI_DPF-a4                                                34\n",
       "Renault_Twingo_1.2-twingo                                                   33\n",
       "Opel_Astra_1.6-astra                                                        33\n",
       "Volkswagen_Golf_1.9_TDI-golf                                                31\n",
       "Ford_Mondeo-mondeo                                                          31\n",
       "Ford_Ka-ka                                                                  30\n",
       "Volkswagen_Lupo_1.0-lupo                                                    29\n",
       "Ford_Fiesta_1.3-fiesta                                                      29\n",
       "Opel_Corsa_C-corsa                                                          28\n",
       "                                                                            ..\n",
       "Verkaufe_Porsche_924-andere                                                  1\n",
       "Citroën_Berlingo_1.6_HDi_110_FAP_Mullewapp-berlingo                          1\n",
       "Toyota_RAV_4_2.2_D_4D_4x4_Automatik_Edition_S-rav                            1\n",
       "Audi_A4_Avant_3.0_TDI_quattro_\"_2_Jahre_Tuev/Au__Vollausstattung\"-a4         1\n",
       "Mercedes_Benz_190_E_2.3_16-andere                                            1\n",
       "Leasinguebernahme_BMW_520d_Touring_M_Sportpaket-5er                          1\n",
       "A_150_klima-a_klasse                                                         1\n",
       "VW_Polo_9N_Klima/Alufelgen_TÜV_9/2017-polo                                   1\n",
       "PEUGEOT_206_CC_Cabrio__scheckheftgepflegt-andere                             1\n",
       "Ford_Focus_1.6_Eco_Boost-focus                                               1\n",
       "Mercedes_Benz_C_200_CDI_DPF_Automatik_Avantgarde_Optik___Top-c_klasse        1\n",
       "Verkaufe_einen_Mazda_Premacy-andere                                          1\n",
       "VW_Passat_2_0_TDI_170_PS_6_Gang_Schaltgetriebe__Schiebedach_AHK-passat       1\n",
       "Volkswagen_Passat_3c_CC_2.0_TDI_DSG-passat                                   1\n",
       "BMW_E36_316i_Coupe-3er                                                       1\n",
       "Opel_Zafira_7_Sitzer_mit_Heckschaden___BJ_2000_TÜV!_Laeuft_super!-zafira     1\n",
       "VW_polo_n1-polo                                                              1\n",
       "MB_230E_Oldtimer_mit_H_Kennzeichen-e_klasse                                  1\n",
       "Opel_Astra_Diesel_TÜV_bis_2017_*Klimaautomatik__*Tempomat*-astra             1\n",
       "Passat_Variant_35_I-passat                                                   1\n",
       "Opel_Vectra_1.8__GTS_Klima_Euro4_So/Wi_HU_10.16-vectra                       1\n",
       "Mercedes_Benz_A_150_Autotronic_Classic-a_klasse                              1\n",
       "BMW_M6_Cabrio_S85_V10_Vmax_330_km/h-m_reihe                                  1\n",
       "Polo_6n2_defekter_Nockenwellensensor-polo                                    1\n",
       "Audi_A4_2.5_TDI_quattro_s_line_paket-a4                                      1\n",
       "BMW_325xi_Touring-3er                                                        1\n",
       "Mercedes_Benz_V220_CDI_Fashion-vito                                          1\n",
       "Peugeot_403_Pick_up_Top_resturiert-4_reihe                                   1\n",
       "Mercedes_c180_kombi-c_klasse                                                 1\n",
       "Alfa_Romeo_156_Sportwagon_1.9_JTD._Bastlerfahrzeug-156                       1\n",
       "Name: car_model, Length: 33752, dtype: int64"
      ]
     },
     "execution_count": 80,
     "metadata": {},
     "output_type": "execute_result"
    }
   ],
   "source": [
    "autos.describe(include='all')\n",
    "carname = pandas.Series(autos[\"name\"])\n",
    "autos[\"car_model\"] =autos[\"name\"] + \"-\" + autos[\"model\"]\n",
    "autos[\"car_model\"].value_counts()\n",
    "#autos[\"model\"].value_counts()\n",
    "#autos[\"name\"].value_counts()"
   ]
  },
  {
   "cell_type": "markdown",
   "metadata": {},
   "source": [
    "Odometer vs. Price"
   ]
  },
  {
   "cell_type": "code",
   "execution_count": 57,
   "metadata": {
    "collapsed": false
   },
   "outputs": [
    {
     "name": "stdout",
     "output_type": "stream",
     "text": [
      "[  5000.  10000.  20000.  30000.  40000.  50000.  60000.  70000.  80000.\n",
      "  90000. 100000. 125000. 150000.]\n"
     ]
    }
   ],
   "source": [
    "autos[\"odometer_km\"].value_counts()\n",
    "odo=autos[\"odometer_km\"].unique()\n",
    "numpy.sort(odo)\n",
    "odo[::-1].sort()\n",
    "odo.sort()\n",
    "print(odo)"
   ]
  },
  {
   "cell_type": "code",
   "execution_count": 81,
   "metadata": {
    "collapsed": false
   },
   "outputs": [
    {
     "name": "stdout",
     "output_type": "stream",
     "text": [
      "{40000.0: 15324.637735849057, 90000.0: 8470.087320574163, 5000.0: 7132.773504273504, 80000.0: 9673.630196936543, 30000.0: 15734.814913448736, 10000.0: 19604.365217391303, 50000.0: 13568.19028340081, 150000.0: 3778.5977849901296, 20000.0: 16704.047879616963, 125000.0: 6189.368279569892, 60000.0: 12131.023131672599, 70000.0: 10954.826013513513, 100000.0: 7987.134671890303}\n"
     ]
    },
    {
     "data": {
      "text/plain": [
       "5000.0       7132.773504\n",
       "10000.0     19604.365217\n",
       "20000.0     16704.047880\n",
       "30000.0     15734.814913\n",
       "40000.0     15324.637736\n",
       "50000.0     13568.190283\n",
       "60000.0     12131.023132\n",
       "70000.0     10954.826014\n",
       "80000.0      9673.630197\n",
       "90000.0      8470.087321\n",
       "100000.0     7987.134672\n",
       "125000.0     6189.368280\n",
       "150000.0     3778.597785\n",
       "dtype: float64"
      ]
     },
     "execution_count": 81,
     "metadata": {},
     "output_type": "execute_result"
    }
   ],
   "source": [
    "price_odo={}\n",
    "\n",
    "for i in odo:\n",
    "    price=autos[autos[\"odometer_km\"]==i]['price'].mean()\n",
    "    price_odo[i]=price\n",
    "    \n",
    "print(price_odo)   \n",
    "price_odo_series = pandas.Series(price_odo)\n",
    "price_odo_series"
   ]
  },
  {
   "cell_type": "markdown",
   "metadata": {},
   "source": [
    "How much cheaper are cars with damage than their non-damaged counterparts?"
   ]
  },
  {
   "cell_type": "code",
   "execution_count": 89,
   "metadata": {
    "collapsed": false
   },
   "outputs": [
    {
     "data": {
      "text/plain": [
       "nein    35232\n",
       "NaN      9829\n",
       "ja       4939\n",
       "Name: notRepairedDamage, dtype: int64"
      ]
     },
     "execution_count": 89,
     "metadata": {},
     "output_type": "execute_result"
    }
   ],
   "source": [
    "autos=pandas.read_csv(\"autos.csv\", encoding=\"Latin-1\")\n",
    "autos[\"price\"] = (autos[\"price\"]\n",
    "                  .str.replace('$','')\n",
    "                  .str.replace(',','')\n",
    "                  .astype(float))\n",
    "autos.describe(include='all')\n",
    "autos[\"notRepairedDamage\"].unique()\n",
    "autos[\"notRepairedDamage\"].value_counts(dropna=False)\n"
   ]
  },
  {
   "cell_type": "code",
   "execution_count": 91,
   "metadata": {
    "collapsed": false
   },
   "outputs": [
    {
     "data": {
      "text/plain": [
       "notRepairedDamage\n",
       "ja      2311.889249\n",
       "nein    8470.595794\n",
       "Name: price, dtype: float64"
      ]
     },
     "execution_count": 91,
     "metadata": {},
     "output_type": "execute_result"
    }
   ],
   "source": [
    "autos.groupby([\"notRepairedDamage\"])['price'].mean()"
   ]
  },
  {
   "cell_type": "code",
   "execution_count": null,
   "metadata": {
    "collapsed": true
   },
   "outputs": [],
   "source": []
  },
  {
   "cell_type": "code",
   "execution_count": null,
   "metadata": {
    "collapsed": true
   },
   "outputs": [],
   "source": []
  },
  {
   "cell_type": "code",
   "execution_count": null,
   "metadata": {
    "collapsed": true
   },
   "outputs": [],
   "source": []
  },
  {
   "cell_type": "code",
   "execution_count": null,
   "metadata": {
    "collapsed": true
   },
   "outputs": [],
   "source": []
  },
  {
   "cell_type": "code",
   "execution_count": null,
   "metadata": {
    "collapsed": true
   },
   "outputs": [],
   "source": []
  },
  {
   "cell_type": "code",
   "execution_count": null,
   "metadata": {
    "collapsed": true
   },
   "outputs": [],
   "source": []
  },
  {
   "cell_type": "code",
   "execution_count": null,
   "metadata": {
    "collapsed": true
   },
   "outputs": [],
   "source": []
  },
  {
   "cell_type": "code",
   "execution_count": null,
   "metadata": {
    "collapsed": true
   },
   "outputs": [],
   "source": []
  },
  {
   "cell_type": "code",
   "execution_count": null,
   "metadata": {
    "collapsed": true
   },
   "outputs": [],
   "source": []
  },
  {
   "cell_type": "code",
   "execution_count": null,
   "metadata": {
    "collapsed": true
   },
   "outputs": [],
   "source": []
  },
  {
   "cell_type": "code",
   "execution_count": null,
   "metadata": {
    "collapsed": true
   },
   "outputs": [],
   "source": []
  },
  {
   "cell_type": "code",
   "execution_count": null,
   "metadata": {
    "collapsed": true
   },
   "outputs": [],
   "source": []
  },
  {
   "cell_type": "code",
   "execution_count": null,
   "metadata": {
    "collapsed": true
   },
   "outputs": [],
   "source": []
  },
  {
   "cell_type": "code",
   "execution_count": null,
   "metadata": {
    "collapsed": true
   },
   "outputs": [],
   "source": []
  }
 ],
 "metadata": {
  "kernelspec": {
   "display_name": "Python 3",
   "language": "python",
   "name": "python3"
  },
  "language_info": {
   "codemirror_mode": {
    "name": "ipython",
    "version": 3
   },
   "file_extension": ".py",
   "mimetype": "text/x-python",
   "name": "python",
   "nbconvert_exporter": "python",
   "pygments_lexer": "ipython3",
   "version": "3.4.3"
  }
 },
 "nbformat": 4,
 "nbformat_minor": 2
}
