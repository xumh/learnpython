{
 "cells": [
  {
   "cell_type": "code",
   "execution_count": 1,
   "metadata": {
    "collapsed": false
   },
   "outputs": [
    {
     "name": "stdout",
     "output_type": "stream",
     "text": [
      "[['', 'year', 'month', 'intent', 'police', 'sex', 'age', 'race', 'hispanic', 'place', 'education'], ['1', '2012', '01', 'Suicide', '0', 'M', '34', 'Asian/Pacific Islander', '100', 'Home', '4'], ['2', '2012', '01', 'Suicide', '0', 'F', '21', 'White', '100', 'Street', '3'], ['3', '2012', '01', 'Suicide', '0', 'M', '60', 'White', '100', 'Other specified', '4'], ['4', '2012', '02', 'Suicide', '0', 'M', '64', 'White', '100', 'Home', '4'], ['5', '2012', '02', 'Suicide', '0', 'M', '31', 'White', '100', 'Other specified', '2']]\n"
     ]
    }
   ],
   "source": [
    "import csv, numpy\n",
    "f=open(\"guns.csv\")\n",
    "data=list(csv.reader(f))\n",
    "print(data[:6])"
   ]
  },
  {
   "cell_type": "code",
   "execution_count": 2,
   "metadata": {
    "collapsed": false
   },
   "outputs": [],
   "source": [
    "headers=data[0]\n",
    "data=data[1:]"
   ]
  },
  {
   "cell_type": "code",
   "execution_count": 3,
   "metadata": {
    "collapsed": false
   },
   "outputs": [
    {
     "name": "stdout",
     "output_type": "stream",
     "text": [
      "{'2012': 33563, '2014': 33599, '2013': 33636}\n"
     ]
    }
   ],
   "source": [
    "years=[each[1] for each in data]\n",
    "year_counts={}\n",
    "for each in years:\n",
    "    if each in year_counts:\n",
    "        year_counts[each]+=1\n",
    "    else:\n",
    "        year_counts[each]=1\n",
    "print(year_counts)"
   ]
  },
  {
   "cell_type": "code",
   "execution_count": 4,
   "metadata": {
    "collapsed": false,
    "scrolled": false
   },
   "outputs": [
    {
     "name": "stdout",
     "output_type": "stream",
     "text": [
      "{datetime.datetime(2012, 5, 1, 0, 0): 2999, datetime.datetime(2013, 12, 1, 0, 0): 2765, datetime.datetime(2012, 1, 1, 0, 0): 2758, datetime.datetime(2014, 9, 1, 0, 0): 2914, datetime.datetime(2013, 2, 1, 0, 0): 2375, datetime.datetime(2013, 3, 1, 0, 0): 2862, datetime.datetime(2012, 4, 1, 0, 0): 2795, datetime.datetime(2013, 6, 1, 0, 0): 2920, datetime.datetime(2012, 8, 1, 0, 0): 2954, datetime.datetime(2013, 4, 1, 0, 0): 2798, datetime.datetime(2012, 10, 1, 0, 0): 2733, datetime.datetime(2012, 12, 1, 0, 0): 2791, datetime.datetime(2012, 3, 1, 0, 0): 2743, datetime.datetime(2014, 12, 1, 0, 0): 2857, datetime.datetime(2013, 7, 1, 0, 0): 3079, datetime.datetime(2014, 6, 1, 0, 0): 2931, datetime.datetime(2013, 5, 1, 0, 0): 2806, datetime.datetime(2014, 7, 1, 0, 0): 2884, datetime.datetime(2014, 4, 1, 0, 0): 2862, datetime.datetime(2013, 8, 1, 0, 0): 2859, datetime.datetime(2014, 5, 1, 0, 0): 2864, datetime.datetime(2014, 11, 1, 0, 0): 2756, datetime.datetime(2012, 9, 1, 0, 0): 2852, datetime.datetime(2013, 10, 1, 0, 0): 2808, datetime.datetime(2013, 9, 1, 0, 0): 2742, datetime.datetime(2013, 11, 1, 0, 0): 2758, datetime.datetime(2014, 2, 1, 0, 0): 2361, datetime.datetime(2012, 2, 1, 0, 0): 2357, datetime.datetime(2014, 10, 1, 0, 0): 2865, datetime.datetime(2014, 8, 1, 0, 0): 2970, datetime.datetime(2012, 7, 1, 0, 0): 3026, datetime.datetime(2012, 11, 1, 0, 0): 2729, datetime.datetime(2014, 3, 1, 0, 0): 2684, datetime.datetime(2014, 1, 1, 0, 0): 2651, datetime.datetime(2012, 6, 1, 0, 0): 2826, datetime.datetime(2013, 1, 1, 0, 0): 2864}\n"
     ]
    }
   ],
   "source": [
    "import datetime\n",
    "dates=[]\n",
    "for each in data:\n",
    "    date = datetime.datetime(year=int(each[1]), month=int(each[2]), day=1)\n",
    "    dates.append(date)\n",
    "\n",
    "dates_counts={}\n",
    "for each in dates:\n",
    "    if each in dates_counts:\n",
    "        dates_counts[each]+=1\n",
    "    else:\n",
    "        dates_counts[each]=1\n",
    "\n",
    "print(dates_counts)"
   ]
  },
  {
   "cell_type": "code",
   "execution_count": 5,
   "metadata": {
    "collapsed": false
   },
   "outputs": [
    {
     "name": "stdout",
     "output_type": "stream",
     "text": [
      "{'M': 86349, 'F': 14449}\n"
     ]
    }
   ],
   "source": [
    "sex=[each[5] for each in data]\n",
    "sex_counts={}\n",
    "for each in sex:\n",
    "    if each in sex_counts:\n",
    "        sex_counts[each]+=1\n",
    "    else:\n",
    "        sex_counts[each]=1\n",
    "\n",
    "print(sex_counts)"
   ]
  },
  {
   "cell_type": "code",
   "execution_count": 6,
   "metadata": {
    "collapsed": false
   },
   "outputs": [
    {
     "name": "stdout",
     "output_type": "stream",
     "text": [
      "{'Hispanic': 9022, 'Native American/Native Alaskan': 917, 'Black': 23296, 'White': 66237, 'Asian/Pacific Islander': 1326}\n"
     ]
    }
   ],
   "source": [
    "race=[each[7] for each in data]\n",
    "race_counts={}\n",
    "for each in race:\n",
    "    if each in race_counts:\n",
    "        race_counts[each]+=1\n",
    "    else:\n",
    "        race_counts[each]=1\n",
    "\n",
    "print(race_counts)"
   ]
  },
  {
   "cell_type": "code",
   "execution_count": 7,
   "metadata": {
    "collapsed": false
   },
   "outputs": [
    {
     "name": "stdout",
     "output_type": "stream",
     "text": [
      "[['Id', 'Year', 'Id', 'Sex', 'Id', 'Hispanic Origin', 'Id', 'Id2', 'Geography', 'Total', 'Race Alone - White', 'Race Alone - Hispanic', 'Race Alone - Black or African American', 'Race Alone - American Indian and Alaska Native', 'Race Alone - Asian', 'Race Alone - Native Hawaiian and Other Pacific Islander', 'Two or More Races'], ['cen42010', 'April 1, 2010 Census', 'totsex', 'Both Sexes', 'tothisp', 'Total', '0100000US', '', 'United States', '308745538', '197318956', '44618105', '40250635', '3739506', '15159516', '674625', '6984195']]\n"
     ]
    }
   ],
   "source": [
    "f=open(\"census.csv\")\n",
    "data1=list(csv.reader(f))\n",
    "print(data1)"
   ]
  },
  {
   "cell_type": "code",
   "execution_count": 8,
   "metadata": {
    "collapsed": false
   },
   "outputs": [
    {
     "name": "stdout",
     "output_type": "stream",
     "text": [
      "{'Hispanic': 20.220491210910907, 'Native American/Native Alaskan': 24.521955573811088, 'Black': 57.8773477735196, 'White': 33.56849303419181, 'Asian/Pacific Islander': 8.374309664161762}\n"
     ]
    }
   ],
   "source": [
    "mapping={\"Asian/Pacific Islander\":15834141, \"Black\":40250635, \"Native American/Native Alaskan\":3739506, \"Hispanic\":44618105, \"White\":197318956}\n",
    "race_per_hundredk={}\n",
    "for key in race_counts:\n",
    "    race_per_hundredk[key]=race_counts[key]/mapping[key]*100000\n",
    "    \n",
    "print(race_per_hundredk)"
   ]
  },
  {
   "cell_type": "code",
   "execution_count": 9,
   "metadata": {
    "collapsed": false
   },
   "outputs": [
    {
     "name": "stdout",
     "output_type": "stream",
     "text": [
      "{'Hispanic': 12.627161104219914, 'Native American/Native Alaskan': 8.717729026240365, 'Black': 48.471284987180944, 'White': 4.6356417981453335, 'Asian/Pacific Islander': 3.530346230970155}\n"
     ]
    }
   ],
   "source": [
    "intents=[each[3] for each in data]\n",
    "races=[each[7] for each in data]\n",
    "homicide_race_counts={}\n",
    "for i,race in enumerate(races):\n",
    "    if intents[i]==\"Homicide\":\n",
    "        if race not in homicide_race_counts:\n",
    "            homicide_race_counts[race]=1\n",
    "        else:\n",
    "            homicide_race_counts[race]+=1\n",
    "\n",
    "#print(homicide_race_counts)\n",
    "\n",
    "race_per_hundredk={}\n",
    "for key in homicide_race_counts:\n",
    "    race_per_hundredk[key]=homicide_race_counts[key]/mapping[key]*100000\n",
    "    \n",
    "print(race_per_hundredk)"
   ]
  },
  {
   "cell_type": "code",
   "execution_count": 10,
   "metadata": {
    "collapsed": false
   },
   "outputs": [
    {
     "name": "stdout",
     "output_type": "stream",
     "text": [
      "{'Undetermined': 807, 'Accidental': 1639, 'Homicide': 35176, 'NA': 1, 'Suicide': 63175}\n"
     ]
    }
   ],
   "source": [
    "intents=[each[3] for each in data]\n",
    "intent_counts={}\n",
    "for each in intents:\n",
    "    if each in intent_counts:\n",
    "        intent_counts[each]+=1\n",
    "    else:\n",
    "        intent_counts[each]=1\n",
    "\n",
    "print(intent_counts)"
   ]
  },
  {
   "cell_type": "code",
   "execution_count": 11,
   "metadata": {
    "collapsed": false
   },
   "outputs": [
    {
     "name": "stdout",
     "output_type": "stream",
     "text": [
      "{'04': 5438, '11': 5086, '02': 4732, '08': 5421, '10': 5256, '03': 5309, '06': 5367, '01': 5220, '09': 5343, '05': 5506, '12': 4983, '07': 5514}\n"
     ]
    }
   ],
   "source": [
    "#Suicide by month\n",
    "month_suicide_counts={}\n",
    "for each in data:\n",
    "    if each[3] == 'Suicide':\n",
    "        if each[2] in month_suicide_counts:\n",
    "            month_suicide_counts[each[2]]+=1\n",
    "        else:\n",
    "            month_suicide_counts[each[2]]=1\n",
    "\n",
    "print(month_suicide_counts)"
   ]
  },
  {
   "cell_type": "code",
   "execution_count": 15,
   "metadata": {
    "collapsed": false
   },
   "outputs": [
    {
     "name": "stdout",
     "output_type": "stream",
     "text": [
      "{'Females': 8689, 'Males': 54486}\n"
     ]
    }
   ],
   "source": [
    "#Suicide by gender\n",
    "gender_suicide_counts={'Females':0,'Males':0}\n",
    "for each in data:\n",
    "    if each[5] == 'F' and each[3] == 'Suicide':\n",
    "        gender_suicide_counts['Females']+=1\n",
    "    if each[5] == 'M' and each[3] == 'Suicide':\n",
    "        gender_suicide_counts['Males']+=1\n",
    "\n",
    "print(gender_suicide_counts)\n"
   ]
  },
  {
   "cell_type": "code",
   "execution_count": 18,
   "metadata": {
    "collapsed": false
   },
   "outputs": [
    {
     "data": {
      "text/plain": [
       "{'10': 3,\n",
       " '100': 1,\n",
       " '101': 2,\n",
       " '102': 2,\n",
       " '11': 14,\n",
       " '12': 54,\n",
       " '13': 127,\n",
       " '14': 217,\n",
       " '15': 276,\n",
       " '16': 355,\n",
       " '17': 432,\n",
       " '18': 556,\n",
       " '19': 631,\n",
       " '20': 687,\n",
       " '21': 864,\n",
       " '22': 1012,\n",
       " '23': 949,\n",
       " '24': 936,\n",
       " '25': 883,\n",
       " '26': 935,\n",
       " '27': 893,\n",
       " '28': 826,\n",
       " '29': 846,\n",
       " '30': 832,\n",
       " '31': 870,\n",
       " '32': 824,\n",
       " '33': 782,\n",
       " '34': 795,\n",
       " '35': 810,\n",
       " '36': 765,\n",
       " '37': 821,\n",
       " '38': 836,\n",
       " '39': 812,\n",
       " '40': 827,\n",
       " '41': 909,\n",
       " '42': 934,\n",
       " '43': 1009,\n",
       " '44': 979,\n",
       " '45': 948,\n",
       " '46': 1007,\n",
       " '47': 1059,\n",
       " '48': 1205,\n",
       " '49': 1218,\n",
       " '50': 1248,\n",
       " '51': 1338,\n",
       " '52': 1334,\n",
       " '53': 1376,\n",
       " '54': 1390,\n",
       " '55': 1324,\n",
       " '56': 1343,\n",
       " '57': 1226,\n",
       " '58': 1274,\n",
       " '59': 1196,\n",
       " '60': 1187,\n",
       " '61': 1123,\n",
       " '62': 917,\n",
       " '63': 909,\n",
       " '64': 967,\n",
       " '65': 910,\n",
       " '66': 857,\n",
       " '67': 761,\n",
       " '68': 755,\n",
       " '69': 799,\n",
       " '70': 812,\n",
       " '71': 717,\n",
       " '72': 667,\n",
       " '73': 664,\n",
       " '74': 618,\n",
       " '75': 633,\n",
       " '76': 532,\n",
       " '77': 543,\n",
       " '78': 545,\n",
       " '79': 537,\n",
       " '80': 497,\n",
       " '81': 524,\n",
       " '82': 493,\n",
       " '83': 516,\n",
       " '84': 453,\n",
       " '85': 418,\n",
       " '86': 394,\n",
       " '87': 298,\n",
       " '88': 328,\n",
       " '89': 229,\n",
       " '9': 2,\n",
       " '90': 197,\n",
       " '91': 169,\n",
       " '92': 121,\n",
       " '93': 100,\n",
       " '94': 60,\n",
       " '95': 50,\n",
       " '96': 35,\n",
       " '97': 18,\n",
       " '98': 16,\n",
       " '99': 5,\n",
       " 'NA': 7}"
      ]
     },
     "execution_count": 18,
     "metadata": {},
     "output_type": "execute_result"
    }
   ],
   "source": [
    "#Function to extract count by variable\n",
    "def countbyseg(intent, var):\n",
    "    counts={}\n",
    "    for i,header in enumerate(headers):\n",
    "        if header==var:\n",
    "            for each in data:\n",
    "                if each[3] ==intent:\n",
    "                    if each[i] in counts:\n",
    "                        counts[each[i]]+=1\n",
    "                    else:\n",
    "                        counts[each[i]]=1\n",
    "    return counts\n",
    "            \n",
    "countbyseg('Suicide', 'age')"
   ]
  },
  {
   "cell_type": "code",
   "execution_count": null,
   "metadata": {
    "collapsed": true
   },
   "outputs": [],
   "source": []
  }
 ],
 "metadata": {
  "kernelspec": {
   "display_name": "Python 3",
   "language": "python",
   "name": "python3"
  },
  "language_info": {
   "codemirror_mode": {
    "name": "ipython",
    "version": 3
   },
   "file_extension": ".py",
   "mimetype": "text/x-python",
   "name": "python",
   "nbconvert_exporter": "python",
   "pygments_lexer": "ipython3",
   "version": "3.4.3"
  }
 },
 "nbformat": 4,
 "nbformat_minor": 0
}
